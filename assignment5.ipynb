{
 "cells": [
  {
   "cell_type": "code",
   "execution_count": 1,
   "metadata": {},
   "outputs": [
    {
     "name": "stdout",
     "output_type": "stream",
     "text": [
      "1\n",
      "2\n",
      "3\n",
      "4\n",
      "5\n",
      "6\n",
      "7\n",
      "8\n",
      "9\n",
      "10\n"
     ]
    }
   ],
   "source": [
    "# 1. Write a Python program to print the numbers from 1 to 10 using a for loop. \n",
    "for  i in range(1,11):\n",
    "    print (i)"
   ]
  },
  {
   "cell_type": "code",
   "execution_count": 3,
   "id": "aad9198f",
   "metadata": {},
   "outputs": [
    {
     "name": "stdout",
     "output_type": "stream",
     "text": [
      "20\n",
      "19\n",
      "18\n",
      "17\n",
      "16\n",
      "15\n",
      "14\n",
      "13\n",
      "12\n",
      "11\n",
      "10\n",
      "9\n",
      "8\n",
      "7\n",
      "6\n",
      "5\n",
      "4\n",
      "3\n",
      "2\n",
      "1\n"
     ]
    }
   ],
   "source": [
    "# 2. Write a Python program to print the numbers from 20 to 1 using a while loop.\n",
    "n=20\n",
    "while n>0:\n",
    "    print(n)\n",
    "    n -=1\n",
    "\n"
   ]
  },
  {
   "cell_type": "code",
   "execution_count": 8,
   "id": "b44d5253",
   "metadata": {},
   "outputs": [
    {
     "name": "stdout",
     "output_type": "stream",
     "text": [
      "2\n",
      "4\n",
      "6\n",
      "8\n",
      "10\n"
     ]
    }
   ],
   "source": [
    "# 3. Write a program to print even numbers from 1 to 10. \n",
    "for i in range(2,11,2):\n",
    "    print(i)"
   ]
  },
  {
   "cell_type": "code",
   "execution_count": 9,
   "id": "4aeaa199",
   "metadata": {},
   "outputs": [
    {
     "name": "stdout",
     "output_type": "stream",
     "text": [
      "1\n",
      "2\n",
      "3\n",
      "4\n",
      "5\n",
      "6\n",
      "7\n",
      "8\n",
      "9\n"
     ]
    }
   ],
   "source": [
    "'''4. Write a program that prompts the user to enter a number n and prints all the\n",
    "numbers from 1 to n. '''\n",
    "user_input=int( input(\"please  enter a number\"))\n",
    "for i in range(1,user_input+1):\n",
    "    print(i)\n"
   ]
  },
  {
   "cell_type": "code",
   "execution_count": 10,
   "id": "1f3b0e8d",
   "metadata": {},
   "outputs": [
    {
     "name": "stdout",
     "output_type": "stream",
     "text": [
      "1\n",
      "3\n",
      "5\n",
      "7\n",
      "9\n",
      "11\n",
      "13\n",
      "15\n"
     ]
    }
   ],
   "source": [
    "'''5. Write a program that prompts the user to enter a number n, and then prints all the\n",
    "odd numbers between 1 and n. '''\n",
    "\n",
    "user_input=int( input(\"please  enter a number\"))\n",
    "for i in range(1,user_input+1,2):\n",
    "    print(i)\n"
   ]
  },
  {
   "cell_type": "code",
   "execution_count": 12,
   "id": "867e3fe0",
   "metadata": {},
   "outputs": [
    {
     "name": "stdout",
     "output_type": "stream",
     "text": [
      "'Happy Birthday!'\n",
      "'Happy Birthday!'\n",
      "'Happy Birthday!'\n",
      "'Happy Birthday!'\n",
      "'Happy Birthday!'\n"
     ]
    }
   ],
   "source": [
    "# 6. Write a program that prints 'Happy Birthday!' five times on screen. \n",
    "message=\"'Happy Birthday!'\"\n",
    "for i in range(1,6):\n",
    "    print(message)\n"
   ]
  },
  {
   "cell_type": "code",
   "execution_count": 14,
   "id": "2ca2b68d",
   "metadata": {},
   "outputs": [
    {
     "name": "stdout",
     "output_type": "stream",
     "text": [
      "1\n",
      "4\n",
      "9\n",
      "16\n",
      "25\n",
      "36\n",
      "49\n",
      "64\n"
     ]
    }
   ],
   "source": [
    "'''7. Write a program that takes a number n as input from the user and generates the first\n",
    "n terms of the series formed by squaring the natural numbers. '''\n",
    "\n",
    "user_input=int( input(\"please  enter a number\"))\n",
    "for i  in range(1,user_input+1):\n",
    "     print(i**2)"
   ]
  },
  {
   "cell_type": "code",
   "execution_count": 16,
   "id": "1186ffae",
   "metadata": {},
   "outputs": [
    {
     "name": "stdout",
     "output_type": "stream",
     "text": [
      "8 x 1  = 8\n",
      "8 x 2  = 16\n",
      "8 x 3  = 24\n",
      "8 x 4  = 32\n",
      "8 x 5  = 40\n",
      "8 x 6  = 48\n",
      "8 x 7  = 56\n",
      "8 x 8  = 64\n",
      "8 x 9  = 72\n",
      "8 x 10  = 80\n"
     ]
    }
   ],
   "source": [
    "'''8. Write a program that prompts the user to input a number and prints its multiplication\n",
    "table. '''\n",
    "user_input=int( input(\"please  enter a number\"))\n",
    "for i  in range(1,11):\n",
    "    print(f\"{user_input} x {i}  = {user_input*i}\")\n"
   ]
  },
  {
   "cell_type": "code",
   "execution_count": 4,
   "id": "06ff3124",
   "metadata": {},
   "outputs": [
    {
     "name": "stdout",
     "output_type": "stream",
     "text": [
      "3\n",
      "7\n",
      "11\n",
      "15\n",
      "19\n",
      "23\n",
      "27\n",
      "31\n"
     ]
    }
   ],
   "source": [
    "'''9. Write a Python program to print the first 8 terms of an arithmetic progression starting\n",
    "with 3 and having a common difference of 4.\n",
    "The program should output the following sequence:\n",
    "3 7 11 15 19 23 27 31 '''\n",
    "\n",
    "n=8\n",
    "a=3\n",
    "while n>0:\n",
    "    n-=1\n",
    "    print(a)\n",
    "    a+=4"
   ]
  },
  {
   "cell_type": "code",
   "execution_count": 6,
   "id": "111620d4",
   "metadata": {},
   "outputs": [
    {
     "name": "stdout",
     "output_type": "stream",
     "text": [
      "2\n",
      "6\n",
      "18\n",
      "54\n",
      "162\n",
      "486\n"
     ]
    }
   ],
   "source": [
    "'''10. Write a Python program to print the first 6 terms of a geometric sequence starting\n",
    "with 2 and having a common ratio of 3.\n",
    "The program should output the following sequence:\n",
    "2 6 18 54 162 486 '''\n",
    "\n",
    "n=6\n",
    "a=1\n",
    "while n>0:\n",
    "    n-=1\n",
    "    l=(2)*(3)**(a-1)\n",
    "    print(l)\n",
    "    a+=1\n"
   ]
  },
  {
   "cell_type": "code",
   "execution_count": 7,
   "id": "c5741d86",
   "metadata": {},
   "outputs": [
    {
     "name": "stdout",
     "output_type": "stream",
     "text": [
      "5050\n"
     ]
    }
   ],
   "source": [
    "'''11. Write a program that asks the user for a positive integer value. The program should\n",
    "calculate the sum of all the integers from 1 up to the number entered. For example, if\n",
    "the user enters 20, the loop will find the sum of 1, 2, 3, 4, ... 20. '''\n",
    "\n",
    "user_input=int(input(\"Enter a number\"))\n",
    "sum=0\n",
    "for  i in range(1,user_input+1):\n",
    "    sum +=i\n",
    "print(sum)\n"
   ]
  },
  {
   "cell_type": "code",
   "execution_count": 12,
   "id": "5b258643",
   "metadata": {},
   "outputs": [
    {
     "name": "stdout",
     "output_type": "stream",
     "text": [
      "2.28\n"
     ]
    }
   ],
   "source": [
    "'''12. write a program that takes a positive integer N as input and calculates the sum of\n",
    "the reciprocals of all numbers from 1 up to N. The program should display the final sum.\n",
    "Output of the program should be like:\n",
    "Enter a positive integer: 5\n",
    "The sum of reciprocals from 1 to 5 is: 2.28'''\n",
    "\n",
    "user_input=int(input(\"Enter a number\"))\n",
    "sum=0\n",
    "for  i in range(1,user_input+1):\n",
    "    sum +=  1/i\n",
    "print(round(sum,2))"
   ]
  },
  {
   "cell_type": "code",
   "execution_count": 13,
   "id": "21561844",
   "metadata": {},
   "outputs": [
    {
     "name": "stdout",
     "output_type": "stream",
     "text": [
      "Enter a number: 10\n",
      "Enter a number: 15\n",
      "Enter a number: 35\n",
      "Enter a number: 40\n",
      "Enter a number: 50\n",
      "The final running total is: 150\n"
     ]
    }
   ],
   "source": [
    "'''13. Write a program that prompts the user to enter a number and repeats this process 5\n",
    "times. The program should accumulate the numbers entered and then display the final\n",
    "running total.\n",
    "Sample Output:\n",
    "Enter a number: 10\n",
    "Enter a number: 15\n",
    "Enter a number: 35\n",
    "Enter a number: 40\n",
    "Enter a number: 50\n",
    "The final running total is: 150 '''\n",
    "\n",
    "total=0\n",
    "for i in range(1,6):\n",
    "    user_input=int(input(\"Enter a number\"))\n",
    "    total+=user_input\n",
    "    print(f\"Enter a number: {user_input}\")\n",
    "print(f\"The final running total is: {total}\")\n",
    "\n"
   ]
  },
  {
   "cell_type": "code",
   "execution_count": 18,
   "id": "03642da4",
   "metadata": {},
   "outputs": [
    {
     "name": "stdout",
     "output_type": "stream",
     "text": [
      "8! is 40320\n"
     ]
    }
   ],
   "source": [
    "'''14. Write a program that prompts the user to enter a positive integer and calculates its\n",
    "factorial. The factorial of a positive integer 'n' is denoted as 'n!' and is calculated by\n",
    "multiplying all the integers from 1 to 'n' together. For example, the factorial of 5\n",
    "(denoted as 5!) is calculated as 1 x 2 x 3 x 4 x 5. \n",
    "The program should display the factorial value if the input is a positive number, or\n",
    "display a message stating that the factorial does not exist for negative numbers.\n",
    "Additionally, for an input of zero, the program should output that the factorial of 0 is 1. \n",
    "'''\n",
    "\n",
    "user_input=int(input(\"Enter a positive number\"))\n",
    "factorial=1\n",
    "for i in range(1,user_input+1):\n",
    "    factorial  *=i\n",
    "print(f\"{user_input}! is {factorial}\")\n",
    "\n"
   ]
  },
  {
   "cell_type": "code",
   "execution_count": 28,
   "id": "c4826609",
   "metadata": {},
   "outputs": [
    {
     "name": "stdout",
     "output_type": "stream",
     "text": [
      "81\n"
     ]
    }
   ],
   "source": [
    "'''15. Write a Python program that prompts the user to enter a base number and an\n",
    "exponent, and then calculates the power of the base to the exponent. The program\n",
    "should not use the exponentiation operator (**) or the math.pow() function. The\n",
    "program should handle both positive and negative exponents.'''\n",
    "\n",
    "base=int(input(\"Enter a base\"))\n",
    "exponent= int(input(\"Enter a exponent\"))\n",
    "multiplication=1\n",
    "for i in range(1,exponent+1):\n",
    "    multiplication *= base\n",
    "print(multiplication)\n"
   ]
  },
  {
   "cell_type": "code",
   "execution_count": null,
   "id": "bca1da5f",
   "metadata": {},
   "outputs": [],
   "source": []
  }
 ],
 "metadata": {
  "kernelspec": {
   "display_name": "Python 3",
   "language": "python",
   "name": "python3"
  },
  "language_info": {
   "codemirror_mode": {
    "name": "ipython",
    "version": 3
   },
   "file_extension": ".py",
   "mimetype": "text/x-python",
   "name": "python",
   "nbconvert_exporter": "python",
   "pygments_lexer": "ipython3",
   "version": "3.11.4"
  }
 },
 "nbformat": 4,
 "nbformat_minor": 5
}
