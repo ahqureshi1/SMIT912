{
 "cells": [
  {
   "cell_type": "markdown",
   "id": "76bcc2c5-4de3-491c-aeb0-d4e4c0f106df",
   "metadata": {},
   "source": [
    "# Assignment # 3"
   ]
  },
  {
   "cell_type": "markdown",
   "id": "7bcc3bed-de2a-43ad-8046-c969ffcfa633",
   "metadata": {},
   "source": [
    "## 1. Write a program that accepts a string from user. Your program should count and display number of vowels in that string"
   ]
  },
  {
   "cell_type": "code",
   "execution_count": 9,
   "id": "1c56c84c-acb1-41a7-8e8e-073a15ec3a2d",
   "metadata": {},
   "outputs": [
    {
     "name": "stdin",
     "output_type": "stream",
     "text": [
      "Write a string? abc\n"
     ]
    },
    {
     "name": "stdout",
     "output_type": "stream",
     "text": [
      "Vowels :  ['a']\n",
      "The number of vowels in the string are: 1\n"
     ]
    }
   ],
   "source": [
    "\n",
    "\n",
    "string = input(\"Write a string?\")\n",
    "result= []\n",
    "vowels = [\"a\", \"e\", \"i\", \"o\", \"u\"]\n",
    "for char in string:\n",
    "    if char in vowels:\n",
    "        result.append(char)\n",
    "\n",
    "print(\"Vowels : \", result)\n",
    "print(f\"The number of vowels in the string are: {len(result)}\")"
   ]
  },
  {
   "cell_type": "markdown",
   "id": "49063485-8539-48f5-80c4-8514df47351f",
   "metadata": {},
   "source": [
    "## 2. Write a program that reads a string from keyboard and display:\n",
    "* The number of uppercase letters in the string\n",
    "* The number of lowercase letters in the string\n",
    "* The number of digits in the string\n",
    "* The number of whitespace characters in the string'''"
   ]
  },
  {
   "cell_type": "code",
   "execution_count": 15,
   "id": "0b7e4cc6-4cc9-48c9-86b8-070b35d2e2ab",
   "metadata": {},
   "outputs": [
    {
     "name": "stdin",
     "output_type": "stream",
     "text": [
      "Write a string\n",
      " Qureshi150 is my gmail account \n"
     ]
    },
    {
     "name": "stdout",
     "output_type": "stream",
     "text": [
      "Total number of  Upercase letters are: 1\n",
      "Total number of  Lowercase letters are: 22\n",
      "Total number of  spaces are: 5\n",
      "Total number of  digits are: 3\n"
     ]
    }
   ],
   "source": [
    "user_input = input(\"Write a string\\n\")\n",
    "capital = []\n",
    "small = []\n",
    "spaces = []\n",
    "numbers = []\n",
    "for char in user_input:\n",
    "    if char.isupper():\n",
    "        capital.append(char)\n",
    "    if char.islower():\n",
    "        small.append(char)\n",
    "    if char.isspace():\n",
    "        spaces.append(char)\n",
    "    if char.isdigit():\n",
    "        numbers.append(char)\n",
    "print(f\"Total number of  Upercase letters are: {len(capital)}\")\n",
    "print(f\"Total number of  Lowercase letters are: {len(small)}\")\n",
    "print(f\"Total number of  spaces are: {len(spaces)}\")\n",
    "print(f\"Total number of  digits are: {len(numbers)}\")"
   ]
  },
  {
   "cell_type": "markdown",
   "id": "9ce6daa7-8a6b-456d-adc1-43d2ddfa5983",
   "metadata": {},
   "source": [
    "## 3. Write a Python program that accepts a string from user. Your program should create and display a\n",
    "new string where the first and last characters have been exchanged.\n",
    "For example if the user enters the string 'HELLO' then new string would be 'OELLH'''"
   ]
  },
  {
   "cell_type": "code",
   "execution_count": 18,
   "id": "19caed3f-e27b-4ca3-b7d7-ef2b9e0732ed",
   "metadata": {},
   "outputs": [
    {
     "name": "stdin",
     "output_type": "stream",
     "text": [
      "Enter a string:\n",
      " haseeb\n"
     ]
    },
    {
     "name": "stdout",
     "output_type": "stream",
     "text": [
      "baseeh\n"
     ]
    }
   ],
   "source": [
    "User_Input = input(\"Enter a string:\\n\")\n",
    "\n",
    "if len(User_Input) < 2:\n",
    "    new_user_input = string\n",
    "else:\n",
    "    new_user_input = User_Input[-1] + User_Input[1:-1] + User_Input[0]\n",
    "\n",
    "print(new_user_input)"
   ]
  },
  {
   "cell_type": "markdown",
   "id": "840569f2-3fe4-4359-b832-96c1e4dafede",
   "metadata": {},
   "source": [
    "## 4. Write a Python program that accepts a string from user. Your program should create a new string in reverse of first string and display it.\n",
    "For example if the user enters the string 'EXAM' then new string would be 'MAXE' '''\n"
   ]
  },
  {
   "cell_type": "code",
   "execution_count": 19,
   "id": "d7a4c053-eca5-42ab-8599-394fa96f8838",
   "metadata": {},
   "outputs": [
    {
     "name": "stdin",
     "output_type": "stream",
     "text": [
      "Enter a string:\n",
      " Haseeb\n"
     ]
    },
    {
     "name": "stdout",
     "output_type": "stream",
     "text": [
      "beesaH\n"
     ]
    }
   ],
   "source": [
    "User_Input = input(\"Enter a string:\\n\")\n",
    "answer = User_Input[::-1]\n",
    "print(answer)"
   ]
  },
  {
   "cell_type": "markdown",
   "id": "b4a91596-f1b5-480e-aebc-0bfb89db1321",
   "metadata": {},
   "source": [
    "## 5. Write a Python program that accepts a string from user. Your program should create a new string by shifting one position to left.\n",
    "For example if the user enters the string 'examination 2021' then new string would be 'xamination\n",
    "2021e' '''"
   ]
  },
  {
   "cell_type": "code",
   "execution_count": 20,
   "id": "f4e27447-5b43-4590-a136-3a93c2cc3708",
   "metadata": {},
   "outputs": [
    {
     "name": "stdin",
     "output_type": "stream",
     "text": [
      "Enter a string:\n",
      " Akram\n"
     ]
    },
    {
     "name": "stdout",
     "output_type": "stream",
     "text": [
      "kramA\n"
     ]
    }
   ],
   "source": [
    "User_Input = input(\"Enter a string:\\n\")\n",
    "new_input = User_Input[1:]+User_Input[0]\n",
    "print(new_input)"
   ]
  },
  {
   "cell_type": "markdown",
   "id": "3bd62278-2108-4f45-9634-e23f277a8f5f",
   "metadata": {},
   "source": [
    "## 6. Write a program that asks the user to input his name and print its initials. Assuming that the user always types first name, middle name and last name and does not include any unnecessary spaces.\n",
    "For example, if the user enters Ajay Kumar Garg the program should display A. K. G.\n",
    "Note:Don't use split() method'''"
   ]
  },
  {
   "cell_type": "code",
   "execution_count": 22,
   "id": "11a8af0a-6c82-4a11-9bfc-2c415e361c13",
   "metadata": {},
   "outputs": [
    {
     "name": "stdin",
     "output_type": "stream",
     "text": [
      "Enter a string:\n",
      " Abdul Haseeb Qureshi\n"
     ]
    },
    {
     "name": "stdout",
     "output_type": "stream",
     "text": [
      "Name Initials:  A. H. Q.\n"
     ]
    }
   ],
   "source": [
    "User_Input = input(\"Enter a string:\\n\")\n",
    "first_letter = \"\"\n",
    "for i in range(len(User_Input)):\n",
    "    if i == 0 or User_Input[i-1] == \" \":\n",
    "        first_letter += User_Input[i].upper() + \". \"\n",
    "print(\"Name Initials: \", first_letter.strip())"
   ]
  },
  {
   "cell_type": "markdown",
   "id": "10660c5b-31e1-45d2-8036-ff06a8f659b0",
   "metadata": {},
   "source": [
    "## 7. A palindrome is a string that reads the same backward as forward. \n",
    "For example, the words dad, madam and radar are all palindromes. Write a programs that determines whether the string is a palindrome.\n",
    "Note: do not use reverse() method."
   ]
  },
  {
   "cell_type": "code",
   "execution_count": 26,
   "id": "af9f27c6-d65b-4740-8ff3-3244f4abd5a4",
   "metadata": {},
   "outputs": [
    {
     "name": "stdin",
     "output_type": "stream",
     "text": [
      "Enter a string:\n",
      " dad\n"
     ]
    },
    {
     "name": "stdout",
     "output_type": "stream",
     "text": [
      "It is a palindrome\n"
     ]
    }
   ],
   "source": [
    "User_Input = input(\"Enter a string:\\n\")\n",
    "reversed = User_Input[::-1]\n",
    "if User_Input == reversed:\n",
    "    print(\"It is a palindrome\")\n",
    "else:\n",
    "    print(\"It is not a palindrome\")"
   ]
  },
  {
   "cell_type": "markdown",
   "id": "197adc1d-1c66-4e9e-8c14-e80844a8256d",
   "metadata": {},
   "source": [
    "## 8. Write a program that display following output:\n",
    "SHIFT\n",
    "HIFTS\n",
    "IFTSH\n",
    "FTSHI\n",
    "TSHIF\n",
    "SHIFT'''"
   ]
  },
  {
   "cell_type": "code",
   "execution_count": 27,
   "id": "b71d0531-f4ca-4d28-8a48-f39ebdf7ab96",
   "metadata": {},
   "outputs": [
    {
     "name": "stdin",
     "output_type": "stream",
     "text": [
      "Enter String SHIFT\n"
     ]
    },
    {
     "name": "stdout",
     "output_type": "stream",
     "text": [
      "SHIFT\n",
      "HIFTS\n",
      "IFTSH\n",
      "FTSHI\n",
      "TSHIF\n",
      "SHIFT\n"
     ]
    }
   ],
   "source": [
    "User_Input=input(\"Enter String\")\n",
    "\n",
    "for i in range(len(User_Input)+1):\n",
    "    new_string=User_Input[1:] + User_Input[0]\n",
    "    print(User_Input)\n",
    "    User_Input=new_string\n"
   ]
  },
  {
   "cell_type": "markdown",
   "id": "0bad216c-8d2f-4856-985b-d9bafd8dd682",
   "metadata": {},
   "source": [
    "## 9. Write a program in python that accepts a string to setup a passwords. Your entered password must meet the following requirements: \n",
    "1. The password must be at least eight characters long.\n",
    "2. It must contain at least one uppercase letter.\n",
    "3. It must contain at least one lowercase letter.\n",
    "4. It must contain at least one numeric digit.\n",
    "5. Your program should should perform this validation."
   ]
  },
  {
   "cell_type": "code",
   "execution_count": 30,
   "id": "d84ddb2c-d8aa-49cd-a665-08960ab4f5da",
   "metadata": {},
   "outputs": [
    {
     "name": "stdin",
     "output_type": "stream",
     "text": [
      "Write your password Akram\n"
     ]
    },
    {
     "name": "stdout",
     "output_type": "stream",
     "text": [
      "Password must contain 8 characters\n",
      "Password is invalid. Please Try again.\n"
     ]
    }
   ],
   "source": [
    "User_Pass = input(\"Write your password\")\n",
    "is_valid = True\n",
    "\n",
    "if len(User_Pass)<8:\n",
    "    is_valid = False\n",
    "    error_message = \"Password must contain 8 characters\"\n",
    "elif not any(char.isupper() for char in User_Pass):\n",
    "    is_valid = False\n",
    "    error_message = \"Password should contain atleast 1 upper letter\"\n",
    "elif not any(char.islower() for char in User_Pass):\n",
    "    is_valid = False\n",
    "    error_message = \"Password should contain atleast 1 lower letter\"\n",
    "elif not any(char.isdigit() for char in User_Pass):\n",
    "    is_valid = False\n",
    "    error_message = \"Password should contain atleast 1 digit\"\n",
    "\n",
    "if is_valid:\n",
    "    print(\"Your password is valid\")\n",
    "else:\n",
    "    print(error_message)\n",
    "    print(\"Password is invalid. Please Try again.\")\n"
   ]
  },
  {
   "cell_type": "code",
   "execution_count": null,
   "id": "cfa32a82-81be-4f40-99ba-02d88d25af44",
   "metadata": {},
   "outputs": [],
   "source": []
  }
 ],
 "metadata": {
  "kernelspec": {
   "display_name": "Python 3 (ipykernel)",
   "language": "python",
   "name": "python3"
  },
  "language_info": {
   "codemirror_mode": {
    "name": "ipython",
    "version": 3
   },
   "file_extension": ".py",
   "mimetype": "text/x-python",
   "name": "python",
   "nbconvert_exporter": "python",
   "pygments_lexer": "ipython3",
   "version": "3.12.4"
  }
 },
 "nbformat": 4,
 "nbformat_minor": 5
}
