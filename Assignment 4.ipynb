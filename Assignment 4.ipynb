{
 "cells": [
  {
   "cell_type": "markdown",
   "id": "8c610cd3-ebe5-4be9-b273-ab5bafbccbc6",
   "metadata": {},
   "source": [
    "# Assignment 4"
   ]
  },
  {
   "cell_type": "markdown",
   "id": "c89d4234-2ccd-42f0-8d20-8f0001caf1b5",
   "metadata": {},
   "source": [
    "## 1. Write a program that accepts a list from user and print the alternate element of list. "
   ]
  },
  {
   "cell_type": "code",
   "execution_count": 5,
   "id": "f7c9ffd0-c3ea-444e-b4e9-d6be57488a79",
   "metadata": {},
   "outputs": [
    {
     "name": "stdin",
     "output_type": "stream",
     "text": [
      "Write items of list separated by comma akram, amna, aslam, ashraf\n"
     ]
    },
    {
     "name": "stdout",
     "output_type": "stream",
     "text": [
      "['akram', 'aslam']\n"
     ]
    }
   ],
   "source": [
    "user_input = input(\"Write items of list separated by comma\").split(\", \")\n",
    "alternet_list=[]\n",
    "for i in range (0, len(user_input), 2):\n",
    "    alternet_list.append(user_input[i])\n",
    "print(alternet_list)"
   ]
  },
  {
   "cell_type": "markdown",
   "id": "873d64f9-119b-4aac-9508-7d75827b7ffe",
   "metadata": {},
   "source": [
    "## 2. Write a program that accepts a list from user. Your program should reverse the content of list and display it. Do not use reverse() method."
   ]
  },
  {
   "cell_type": "code",
   "execution_count": 9,
   "id": "77324a32-e58b-4910-bec9-8ab6fb9a3797",
   "metadata": {},
   "outputs": [
    {
     "name": "stdin",
     "output_type": "stream",
     "text": [
      "Write items of list separated by comma 1, 2, 3, 4\n"
     ]
    },
    {
     "name": "stdout",
     "output_type": "stream",
     "text": [
      "The reversed list is given below:\n",
      "['4', '3', '2', '1']\n"
     ]
    }
   ],
   "source": [
    "user_input = input(\"Write items of list separated by comma\").split(\", \")\n",
    "reversed = user_input[::-1]\n",
    "print(\"The reversed list is given below:\")\n",
    "print(reversed)"
   ]
  },
  {
   "cell_type": "markdown",
   "id": "381e7636-3556-4329-be40-74246d0993cc",
   "metadata": {},
   "source": [
    "## 3. Find and display the largest number of a list without using built-in function max(). Your program should ask the user to input values in list from keyboard."
   ]
  },
  {
   "cell_type": "code",
   "execution_count": 8,
   "id": "3d43cd14-81f2-40d9-9960-42bd204dca87",
   "metadata": {
    "scrolled": true
   },
   "outputs": [
    {
     "name": "stdin",
     "output_type": "stream",
     "text": [
      "Enter elements,separated by a space 1,2,3,4\n"
     ]
    },
    {
     "name": "stdout",
     "output_type": "stream",
     "text": [
      "[1, 2, 3, 4]\n",
      "The largest number in the list is: 4\n"
     ]
    }
   ],
   "source": [
    "user_input=input(\"Enter nubmers ,separated by a space\").split(\", \")\n",
    "user_list = list(map(int, user_input))\n",
    "print(user_list)\n",
    "largest_number=user_list[0]\n",
    "for num in user_list:\n",
    "    if num > largest_number:\n",
    "        largest_number = num\n",
    "\n",
    "print(f\"The largest number in the list is: {largest_number}\")\n",
    "    \n"
   ]
  },
  {
   "cell_type": "markdown",
   "id": "ebaa24b4-fe19-4741-bd6c-947919c1a6a1",
   "metadata": {},
   "source": [
    "## 4. Write a program that rotates the elements of a list so that the element at the first index moves to the second index, the element in the second index moves to the third index, etc. and the element in the last index moves to the first index."
   ]
  },
  {
   "cell_type": "code",
   "execution_count": 16,
   "id": "6247ccd4-5b3c-4fad-855e-ce88fa4c2fd6",
   "metadata": {},
   "outputs": [
    {
     "name": "stdin",
     "output_type": "stream",
     "text": [
      "Enter item ,separated by a comma and space a, b, c\n"
     ]
    },
    {
     "name": "stdout",
     "output_type": "stream",
     "text": [
      "['c', 'a', 'b']\n"
     ]
    }
   ],
   "source": [
    "user_input=input(\"Enter item ,separated by a comma and space\").split(\", \")\n",
    "rotated_list =  [user_input[-1]] + user_input[:-1]\n",
    "print(rotated_list)\n"
   ]
  },
  {
   "cell_type": "markdown",
   "id": "f99fdb59-4f88-428e-b5a9-021368df0841",
   "metadata": {},
   "source": [
    "## 5. Write a program that input a string and ask user to delete a given word from a string. "
   ]
  },
  {
   "cell_type": "code",
   "execution_count": 20,
   "id": "f68c4373-bbc3-48de-b6eb-bb599b9f8415",
   "metadata": {},
   "outputs": [
    {
     "name": "stdin",
     "output_type": "stream",
     "text": [
      "Enter a sentence Akram is a good boy\n",
      "Enter word to delete from sentence good\n"
     ]
    },
    {
     "name": "stdout",
     "output_type": "stream",
     "text": [
      "Akram is a boy\n"
     ]
    }
   ],
   "source": [
    "user_input = input(\"Enter a sentence\")\n",
    "word_to_delete = input(\"Enter word to delete from sentence\")\n",
    "words = user_input.split()\n",
    "filter = [word for word in words if word != word_to_delete]\n",
    "string = ' '.join(filter)\n",
    "print(string)"
   ]
  },
  {
   "cell_type": "markdown",
   "id": "639c9364-bd1c-45ce-8c22-c0eafa42f3d2",
   "metadata": {},
   "source": [
    "## 6. Write a program that reads a string from the user containing a date in the form mm/dd/yyyy. It should print the date in the form March 12, 2021."
   ]
  },
  {
   "cell_type": "code",
   "execution_count": 23,
   "id": "0cb56f35-5dfb-42a5-ad1a-5a3e96591acd",
   "metadata": {},
   "outputs": [
    {
     "name": "stdin",
     "output_type": "stream",
     "text": [
      "Enter the date in the form mm/dd/yyyy:  3/16/1994\n"
     ]
    },
    {
     "name": "stdout",
     "output_type": "stream",
     "text": [
      "Formatted date: March 16, 1994\n"
     ]
    }
   ],
   "source": [
    "user_input = input(\"Enter the date in the form mm/dd/yyyy: \")\n",
    "month, day, year = user_input.split('/')\n",
    "months = [\"January\", \"February\", \"March\", \"April\", \"May\", \"June\",\"July\", \"August\", \"September\", \"October\", \"November\", \"December\"]\n",
    "month_name = months[int(month) - 1]\n",
    "formatted_date = f\"{month_name} {int(day)}, {year}\"\n",
    "print(\"Formatted date:\", formatted_date)\n"
   ]
  },
  {
   "cell_type": "markdown",
   "id": "190d49b1-ab92-4b41-9805-d75868f23f08",
   "metadata": {},
   "source": [
    "## 7. Write a program with a function that accepts a string from keyboard and create a new string after converting character of each word capitalized. For instance, if the sentence is \"stop and smell the roses.\" the output should be \"Stop And Smell The Roses\""
   ]
  },
  {
   "cell_type": "code",
   "execution_count": 26,
   "id": "064db637-37e1-43fc-b160-fc3860a11e41",
   "metadata": {},
   "outputs": [
    {
     "name": "stdin",
     "output_type": "stream",
     "text": [
      "Enter a sentence:  i love red roses\n"
     ]
    },
    {
     "name": "stdout",
     "output_type": "stream",
     "text": [
      "Capitalized sentence: I Love Red Roses\n"
     ]
    }
   ],
   "source": [
    "sentence = input(\"Enter a sentence: \")\n",
    "split_sentences = sentence.split()\n",
    "capitalized = ' '.join(word.capitalize() for word in split_sentences)\n",
    "print(\"Capitalized sentence:\", capitalized)"
   ]
  },
  {
   "cell_type": "markdown",
   "id": "1f285225-4227-4420-8e64-7e6c19c84769",
   "metadata": {},
   "source": [
    "## 8. Find the sum of each row of matrix of size m x n. For example for the following matrix output will be like this :\n",
    "* Sum of row 1 = 32\n",
    "* Sum of row 2 = 31\n",
    "* Sum of row 3 = 63"
   ]
  },
  {
   "cell_type": "code",
   "execution_count": 3,
   "id": "ef1ab495-5195-4472-b13d-f6cf397dd082",
   "metadata": {},
   "outputs": [
    {
     "name": "stdout",
     "output_type": "stream",
     "text": [
      "3\n",
      "Sum of row 1 = 28\n",
      "Sum of row 2 = 22\n",
      "Sum of row 3 = 36\n"
     ]
    }
   ],
   "source": [
    "matrix = [\n",
    "    [10, 7, 2, 9],\n",
    "    [9, 10, 2, 1],\n",
    "    [25, 3, 4, 4]\n",
    "]\n",
    "for i in range(len(matrix)):\n",
    "    row_sum = sum(matrix[i])\n",
    "    print(f\"Sum of row {i + 1} = {row_sum}\")"
   ]
  },
  {
   "cell_type": "code",
   "execution_count": null,
   "id": "63aaeb47-a08d-4680-a005-1f4ef08c0f6c",
   "metadata": {},
   "outputs": [],
   "source": []
  },
  {
   "cell_type": "code",
   "execution_count": 5,
   "id": "f88bc0ee-05c1-44a9-9e1f-1064f42059ce",
   "metadata": {},
   "outputs": [
    {
     "name": "stdout",
     "output_type": "stream",
     "text": [
      "Resultant Matrix:\n",
      "[2, 2, 3]\n",
      "[4, 6, 6]\n",
      "[7, 8, 10]\n"
     ]
    }
   ],
   "source": [
    "M1 = [\n",
    "    [1, 2, 3],\n",
    "    [4, 5, 6],\n",
    "    [7, 8, 9]\n",
    "]\n",
    "\n",
    "M2 = [\n",
    "    [1, 0, 0],\n",
    "    [0, 1, 0],\n",
    "    [0, 0, 1]\n",
    "]\n",
    "\n",
    "print(\"Resultant Matrix:\")\n",
    "for i in range(len(M1)):\n",
    "    for j in range(len(M1[i])):\n",
    "        M1[i][j] += M2[i][j]\n",
    "    print(M1[i])"
   ]
  },
  {
   "cell_type": "markdown",
   "id": "7e72a78c-d19a-41fd-8708-044f9f7ed58c",
   "metadata": {},
   "source": [
    "## 10. Write a program to multiply two matrices"
   ]
  },
  {
   "cell_type": "code",
   "execution_count": null,
   "id": "0761a35b-10b7-4c49-a5dd-9323c410e3e6",
   "metadata": {},
   "outputs": [],
   "source": []
  }
 ],
 "metadata": {
  "kernelspec": {
   "display_name": "Python 3 (ipykernel)",
   "language": "python",
   "name": "python3"
  },
  "language_info": {
   "codemirror_mode": {
    "name": "ipython",
    "version": 3
   },
   "file_extension": ".py",
   "mimetype": "text/x-python",
   "name": "python",
   "nbconvert_exporter": "python",
   "pygments_lexer": "ipython3",
   "version": "3.12.4"
  }
 },
 "nbformat": 4,
 "nbformat_minor": 5
}
